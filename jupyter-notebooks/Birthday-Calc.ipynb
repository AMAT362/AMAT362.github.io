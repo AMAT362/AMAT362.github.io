{
 "cells": [
  {
   "cell_type": "code",
   "execution_count": 3,
   "id": "horizontal-decrease",
   "metadata": {},
   "outputs": [
    {
     "data": {
      "text/plain": [
       "132860"
      ]
     },
     "execution_count": 3,
     "metadata": {},
     "output_type": "execute_result"
    }
   ],
   "source": [
    "import matplotlib.pyplot as plt\n",
    "\n",
    "def reduceByN(x,N):\n",
    "    total = 1\n",
    "    for i in range(N):\n",
    "        total = total*(x-i)\n",
    "    return total\n",
    "\n",
    "reduceByN(365,2)"
   ]
  },
  {
   "cell_type": "code",
   "execution_count": 4,
   "id": "efficient-mexico",
   "metadata": {},
   "outputs": [
    {
     "data": {
      "text/plain": [
       "132860"
      ]
     },
     "execution_count": 4,
     "metadata": {},
     "output_type": "execute_result"
    }
   ],
   "source": [
    "365*364"
   ]
  },
  {
   "cell_type": "code",
   "execution_count": 23,
   "id": "respiratory-phrase",
   "metadata": {},
   "outputs": [],
   "source": [
    "prob = [reduceByN(365,i)/(365**i) for i in range(1,80)]"
   ]
  },
  {
   "cell_type": "code",
   "execution_count": 29,
   "id": "fallen-afghanistan",
   "metadata": {},
   "outputs": [],
   "source": [
    "data = [[i, prob[i]] for i in range(len(prob))]"
   ]
  },
  {
   "cell_type": "code",
   "execution_count": 30,
   "id": "occasional-injection",
   "metadata": {},
   "outputs": [
    {
     "data": {
      "text/plain": [
       "[[0, 1.0],\n",
       " [1, 0.9972602739726028],\n",
       " [2, 0.9917958341152187],\n",
       " [3, 0.9836440875334497],\n",
       " [4, 0.9728644263002064],\n",
       " [5, 0.9595375163508885],\n",
       " [6, 0.9437642969040246],\n",
       " [7, 0.925664707648331],\n",
       " [8, 0.9053761661108333],\n",
       " [9, 0.8830518222889223],\n",
       " [10, 0.858858621678267],\n",
       " [11, 0.8329752111619356],\n",
       " [12, 0.8055897247675706],\n",
       " [13, 0.776897487995027],\n",
       " [14, 0.7470986802363137],\n",
       " [15, 0.7163959947471501],\n",
       " [16, 0.6849923347034393],\n",
       " [17, 0.6530885821282106],\n",
       " [18, 0.6208814739684633],\n",
       " [19, 0.5885616164194201],\n",
       " [20, 0.5563116648347942],\n",
       " [21, 0.5243046923374499],\n",
       " [22, 0.4927027656760146],\n",
       " [23, 0.4616557420854712],\n",
       " [24, 0.4313002960305361],\n",
       " [25, 0.401759179864061],\n",
       " [26, 0.37314071773675805],\n",
       " [27, 0.3455385276576006],\n",
       " [28, 0.31903146252222303],\n",
       " [29, 0.2936837572807313],\n",
       " [30, 0.26954536627135617],\n",
       " [31, 0.24665247214967934],\n",
       " [32, 0.225028145824228],\n",
       " [33, 0.20468313537984573],\n",
       " [34, 0.18561676112528477],\n",
       " [35, 0.16781789362012048],\n",
       " [36, 0.15126599178361544],\n",
       " [37, 0.1359321789178791],\n",
       " [38, 0.12178033563327798],\n",
       " [39, 0.10876819018205101],\n",
       " [40, 0.09684838851826459],\n",
       " [41, 0.08596952843813077],\n",
       " [42, 0.0760771443438801],\n",
       " [43, 0.06711463144857369],\n",
       " [44, 0.05902410053422507],\n",
       " [45, 0.05174715663274527],\n",
       " [46, 0.04522559716670066],\n",
       " [47, 0.03940202712057756],\n",
       " [48, 0.03422039067732353],\n",
       " [49, 0.0296264204220116],\n",
       " [50, 0.025568006665571654],\n",
       " [51, 0.021995490665724655],\n",
       " [52, 0.01886188651608717],\n",
       " [53, 0.016123037241148486],\n",
       " [54, 0.013737711183553915],\n",
       " [55, 0.011667645114799216],\n",
       " [56, 0.00987754065883002],\n",
       " [57, 0.008335020610738757],\n",
       " [58, 0.0070105515821830095],\n",
       " [59, 0.005877339134652057],\n",
       " [60, 0.0049112011947092535],\n",
       " [61, 0.004090425104634556],\n",
       " [62, 0.003395613169052796],\n",
       " [63, 0.002809521033024505],\n",
       " [64, 0.0023168926875078797],\n",
       " [65, 0.0019042953595955175],\n",
       " [66, 0.0015599570206001638],\n",
       " [67, 0.0012736087455858872],\n",
       " [68, 0.0010363336916137218],\n",
       " [69, 0.0008404240348429086],\n",
       " [70, 0.0006792468226812549],\n",
       " [71, 0.0005471193585432574],\n",
       " [72, 0.00043919444398129976],\n",
       " [73, 0.00035135555518503984],\n",
       " [74, 0.0002801218261886208],\n",
       " [75, 0.0002225625468347946],\n",
       " [76, 0.00017622075626097435],\n",
       " [77, 0.0001390454186387962],\n",
       " [78, 0.00010933160314886167]]"
      ]
     },
     "execution_count": 30,
     "metadata": {},
     "output_type": "execute_result"
    }
   ],
   "source": [
    "data"
   ]
  },
  {
   "cell_type": "code",
   "execution_count": 22,
   "id": "commercial-furniture",
   "metadata": {},
   "outputs": [
    {
     "data": {
      "image/png": "[encoded data removed]",
      "text/plain": [
       "<Figure size 432x288 with 1 Axes>"
      ]
     },
     "metadata": {
      "needs_background": "light"
     },
     "output_type": "display_data"
    }
   ],
   "source": [
    "plt.plot(prob)\n",
    "plt.title(\"Probability of No Two Common B-Days\")\n",
    "plt.xlabel(\"Number of Students\")\n",
    "plt.savefig('BDayParadox.png')"
   ]
  },
  {
   "cell_type": "code",
   "execution_count": null,
   "id": "moral-reference",
   "metadata": {},
   "outputs": [],
   "source": []
  }
 ],
 "metadata": {
  "kernelspec": {
   "display_name": "Python 3",
   "language": "python",
   "name": "python3"
  },
  "language_info": {
   "codemirror_mode": {
    "name": "ipython",
    "version": 3
   },
   "file_extension": ".py",
   "mimetype": "text/x-python",
   "name": "python",
   "nbconvert_exporter": "python",
   "pygments_lexer": "ipython3",
   "version": "3.7.4"
  }
 },
 "nbformat": 4,
 "nbformat_minor": 5
}
